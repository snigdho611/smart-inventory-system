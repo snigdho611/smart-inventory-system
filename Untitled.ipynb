{
 "cells": [
  {
   "cell_type": "code",
   "execution_count": 68,
   "metadata": {},
   "outputs": [
    {
     "name": "stdout",
     "output_type": "stream",
     "text": [
      "[['tropical fruit', 'citrus fruit', 0.03], ['whole milk', 'citrus fruit', 0.03], ['yogurt', 'tropical fruit', 0.03], ['whole milk', 'tropical fruit', 0.03], ['other vegetables', 'tropical fruit', 0.04], ['rolls/buns', 'tropical fruit', 0.03], ['root vegetables', 'tropical fruit', 0.03], ['tropical fruit', 'brown bread', 0.03], ['yogurt', 'whole milk', 0.06], ['yogurt', 'cream cheese', 0.03], ['yogurt', 'bottled water', 0.03], ['yogurt', 'soda', 0.03], ['other vegetables', 'whole milk', 0.07], ['butter', 'whole milk', 0.03], ['whole milk', 'rolls/buns', 0.03], ['curd', 'whole milk', 0.04], ['whole milk', 'soda', 0.04], ['sugar', 'whole milk', 0.03], ['pastry', 'whole milk', 0.03], ['root vegetables', 'whole milk', 0.04], ['whole milk', 'domestic eggs', 0.03], ['other vegetables', 'rolls/buns', 0.05], ['other vegetables', 'bottled water', 0.03], ['other vegetables', 'root vegetables', 0.05], ['whipped/sour cream', 'other vegetables', 0.03], ['bottled water', 'rolls/buns', 0.04], ['rolls/buns', 'soda', 0.05], ['sugar', 'rolls/buns', 0.03], ['root vegetables', 'rolls/buns', 0.04], ['sausage', 'rolls/buns', 0.05], ['pastry', 'soda', 0.03], ['fruit/vegetable juice', 'brown bread', 0.03], ['canned beer', 'brown bread', 0.03], ['shopping bags', 'canned beer', 0.03], ['whipped/sour cream', 'pork', 0.03]]\n"
     ]
    }
   ],
   "source": [
    "import pandas as pd\n",
    "import re \n",
    "import csv\n",
    "\n",
    "item_relations = pd.read_csv(\"files/outputs/frequent-data.csv\")\n",
    "\n",
    "list_relations = item_relations['itemsets'].tolist()\n",
    "list_relations = [re.findall(r\"'(.*?)'\", str(x)) for x in list_relations]\n",
    "# print(list_relations)\n",
    "list_support = item_relations['support'].tolist()\n",
    "for i in range(0, len(item_relations)):\n",
    "#     print(list_relations[i])\n",
    "    list_relations[i].append(list_support[i])\n",
    "    \n",
    "print(list_relations)"
   ]
  },
  {
   "cell_type": "code",
   "execution_count": 61,
   "metadata": {},
   "outputs": [
    {
     "name": "stdout",
     "output_type": "stream",
     "text": [
      "['tropical fruit', 'citrus fruit', 0.03]\n",
      "['whole milk', 'citrus fruit', 0.03]\n",
      "['yogurt', 'tropical fruit', 0.03]\n",
      "['whole milk', 'tropical fruit', 0.03]\n",
      "['other vegetables', 'tropical fruit', 0.04]\n",
      "['rolls/buns', 'tropical fruit', 0.03]\n",
      "['root vegetables', 'tropical fruit', 0.03]\n",
      "['tropical fruit', 'brown bread', 0.03]\n",
      "['yogurt', 'whole milk', 0.06]\n",
      "['yogurt', 'cream cheese', 0.03]\n",
      "['yogurt', 'bottled water', 0.03]\n",
      "['yogurt', 'soda', 0.03]\n",
      "['other vegetables', 'whole milk', 0.07]\n",
      "['butter', 'whole milk', 0.03]\n",
      "['whole milk', 'rolls/buns', 0.03]\n",
      "['curd', 'whole milk', 0.04]\n",
      "['whole milk', 'soda', 0.04]\n",
      "['sugar', 'whole milk', 0.03]\n",
      "['pastry', 'whole milk', 0.03]\n",
      "['root vegetables', 'whole milk', 0.04]\n",
      "['whole milk', 'domestic eggs', 0.03]\n",
      "['other vegetables', 'rolls/buns', 0.05]\n",
      "['other vegetables', 'bottled water', 0.03]\n",
      "['other vegetables', 'root vegetables', 0.05]\n",
      "['whipped/sour cream', 'other vegetables', 0.03]\n",
      "['bottled water', 'rolls/buns', 0.04]\n",
      "['rolls/buns', 'soda', 0.05]\n",
      "['sugar', 'rolls/buns', 0.03]\n",
      "['root vegetables', 'rolls/buns', 0.04]\n",
      "['sausage', 'rolls/buns', 0.05]\n",
      "['pastry', 'soda', 0.03]\n",
      "['fruit/vegetable juice', 'brown bread', 0.03]\n",
      "['canned beer', 'brown bread', 0.03]\n",
      "['shopping bags', 'canned beer', 0.03]\n",
      "['whipped/sour cream', 'pork', 0.03]\n",
      "[['tropical fruit', 'citrus fruit', 0.03, 0.03], ['whole milk', 'citrus fruit', 0.03, 0.03], ['yogurt', 'tropical fruit', 0.03, 0.03], ['whole milk', 'tropical fruit', 0.03, 0.03], ['other vegetables', 'tropical fruit', 0.04, 0.04], ['rolls/buns', 'tropical fruit', 0.03, 0.03], ['root vegetables', 'tropical fruit', 0.03, 0.03], ['tropical fruit', 'brown bread', 0.03, 0.03], ['yogurt', 'whole milk', 0.06, 0.06], ['yogurt', 'cream cheese', 0.03, 0.03], ['yogurt', 'bottled water', 0.03, 0.03], ['yogurt', 'soda', 0.03, 0.03], ['other vegetables', 'whole milk', 0.07, 0.07], ['butter', 'whole milk', 0.03, 0.03], ['whole milk', 'rolls/buns', 0.03, 0.03], ['curd', 'whole milk', 0.04, 0.04], ['whole milk', 'soda', 0.04, 0.04], ['sugar', 'whole milk', 0.03, 0.03], ['pastry', 'whole milk', 0.03, 0.03], ['root vegetables', 'whole milk', 0.04, 0.04], ['whole milk', 'domestic eggs', 0.03, 0.03], ['other vegetables', 'rolls/buns', 0.05, 0.05], ['other vegetables', 'bottled water', 0.03, 0.03], ['other vegetables', 'root vegetables', 0.05, 0.05], ['whipped/sour cream', 'other vegetables', 0.03, 0.03], ['bottled water', 'rolls/buns', 0.04, 0.04], ['rolls/buns', 'soda', 0.05, 0.05], ['sugar', 'rolls/buns', 0.03, 0.03], ['root vegetables', 'rolls/buns', 0.04, 0.04], ['sausage', 'rolls/buns', 0.05, 0.05], ['pastry', 'soda', 0.03, 0.03], ['fruit/vegetable juice', 'brown bread', 0.03, 0.03], ['canned beer', 'brown bread', 0.03, 0.03], ['shopping bags', 'canned beer', 0.03, 0.03], ['whipped/sour cream', 'pork', 0.03, 0.03]]\n"
     ]
    }
   ],
   "source": [
    "list_support = item_relations['support'].tolist()\n",
    "for i in range(0, len(item_relations)):\n",
    "    print(list_relations[i])\n",
    "    list_relations[i].append(list_support[i])\n",
    "    \n",
    "print(list_relations)"
   ]
  },
  {
   "cell_type": "code",
   "execution_count": 46,
   "metadata": {},
   "outputs": [
    {
     "name": "stdout",
     "output_type": "stream",
     "text": [
      "[['tropical fruit', 'citrus fruit'], ['whole milk', 'citrus fruit'], ['yogurt', 'tropical fruit'], ['whole milk', 'tropical fruit'], ['other vegetables', 'tropical fruit'], ['rolls/buns', 'tropical fruit'], ['root vegetables', 'tropical fruit'], ['tropical fruit', 'brown bread'], ['yogurt', 'whole milk'], ['yogurt', 'cream cheese'], ['yogurt', 'bottled water'], ['yogurt', 'soda'], ['other vegetables', 'whole milk'], ['butter', 'whole milk'], ['whole milk', 'rolls/buns'], ['curd', 'whole milk'], ['whole milk', 'soda'], ['sugar', 'whole milk'], ['pastry', 'whole milk'], ['root vegetables', 'whole milk'], ['whole milk', 'domestic eggs'], ['other vegetables', 'rolls/buns'], ['other vegetables', 'bottled water'], ['other vegetables', 'root vegetables'], ['whipped/sour cream', 'other vegetables'], ['bottled water', 'rolls/buns'], ['rolls/buns', 'soda'], ['sugar', 'rolls/buns'], ['root vegetables', 'rolls/buns'], ['sausage', 'rolls/buns'], ['pastry', 'soda'], ['fruit/vegetable juice', 'brown bread'], ['canned beer', 'brown bread'], ['shopping bags', 'canned beer'], ['whipped/sour cream', 'pork']]\n"
     ]
    }
   ],
   "source": [
    "objective = []\n",
    "total_objective = []\n",
    "items = ['tropical fruit', 'citrus fruit', 'whole milk', 'yogurt']\n",
    "for k in items:\n",
    "    for i in list_relations:\n",
    "        for j in i:\n",
    "            #print(j, end=', ')\n",
    "                if k == j:\n",
    "                    objective.append(i)    \n",
    "#                 print(k)\n",
    "    total_objective.append(objective)\n",
    "# print(total_objective[0])\n",
    "# print(objective)\n",
    "print(list_relations)\n",
    "\n",
    "    #print('\\n')"
   ]
  }
 ],
 "metadata": {
  "kernelspec": {
   "display_name": "Python 3",
   "language": "python",
   "name": "python3"
  },
  "language_info": {
   "codemirror_mode": {
    "name": "ipython",
    "version": 3
   },
   "file_extension": ".py",
   "mimetype": "text/x-python",
   "name": "python",
   "nbconvert_exporter": "python",
   "pygments_lexer": "ipython3",
   "version": "3.8.3"
  }
 },
 "nbformat": 4,
 "nbformat_minor": 4
}
