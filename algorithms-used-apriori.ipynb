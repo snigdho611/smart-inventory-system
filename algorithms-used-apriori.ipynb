{
 "cells": [
  {
   "cell_type": "code",
   "execution_count": null,
   "metadata": {},
   "outputs": [],
   "source": [
    "<h2>Generate One Hot Encoded DataFrame</h2>"
   ]
  },
  {
   "cell_type": "code",
   "execution_count": null,
   "metadata": {},
   "outputs": [],
   "source": [
    "import pandas as pd\n",
    "import csv\n",
    "\n",
    "groceries_unique = clean_data(\"files/groceries.csv\")\n",
    "display(groceries_unique)"
   ]
  },
  {
   "cell_type": "code",
   "execution_count": null,
   "metadata": {},
   "outputs": [],
   "source": [
    "groceries_DataFrameUnique = pd.read_csv(\"files/outputs/unique-stock.csv\")\n",
    "groceries_list = []\n",
    "for i in groceries_DataFrameUnique.index:\n",
    "    groceries_list.append(groceries_DataFrameUnique.iloc[i][1])\n",
    "groceries_list = [groceries_list]\n",
    "\n",
    "encoded_DataFrame = pd.DataFrame(index = groceries_DataFrame.index, columns=groceries_list)\n",
    "encoded_DataFrame.fillna(value='0', inplace=True)\n",
    "#display(encoded_DataFrame)\n",
    "for i in groceries_DataFrame.index:\n",
    "    for j in range(1, len(groceries_DataFrame.iloc[i])):\n",
    "        if groceries_DataFrame.iloc[i][j] != 0 and groceries_DataFrame.iloc[i][j] != '0':\n",
    "            for k in list(encoded_DataFrame.columns):\n",
    "                if str(groceries_DataFrame.iloc[i][j]) == str(k)[2:-3]:\n",
    "                    encoded_DataFrame.loc[i, str(groceries_DataFrame.iloc[i][j])]=1\n",
    "display(encoded_DataFrame)"
   ]
  }
 ],
 "metadata": {
  "kernelspec": {
   "display_name": "Python 3",
   "language": "python",
   "name": "python3"
  },
  "language_info": {
   "codemirror_mode": {
    "name": "ipython",
    "version": 3
   },
   "file_extension": ".py",
   "mimetype": "text/x-python",
   "name": "python",
   "nbconvert_exporter": "python",
   "pygments_lexer": "ipython3",
   "version": "3.8.3"
  }
 },
 "nbformat": 4,
 "nbformat_minor": 4
}
