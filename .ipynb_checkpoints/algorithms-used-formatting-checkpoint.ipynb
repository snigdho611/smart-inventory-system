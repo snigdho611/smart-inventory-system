{
 "cells": [
  {
   "cell_type": "code",
   "execution_count": 84,
   "metadata": {},
   "outputs": [
    {
     "name": "stdout",
     "output_type": "stream",
     "text": [
      "['tropical fruit', 'citrus fruit', '3.0%']\n",
      "['whole milk', 'citrus fruit', '3.0%']\n",
      "['yogurt', 'tropical fruit', '3.0%']\n",
      "['whole milk', 'tropical fruit', '3.0%']\n",
      "['other vegetables', 'tropical fruit', '4.0%']\n",
      "['rolls/buns', 'tropical fruit', '3.0%']\n",
      "['root vegetables', 'tropical fruit', '3.0%']\n",
      "['tropical fruit', 'brown bread', '3.0%']\n",
      "['yogurt', 'whole milk', '6.0%']\n",
      "['yogurt', 'cream cheese', '3.0%']\n",
      "['yogurt', 'bottled water', '3.0%']\n",
      "['yogurt', 'soda', '3.0%']\n",
      "['other vegetables', 'whole milk', '7.0%']\n",
      "['butter', 'whole milk', '3.0%']\n",
      "['whole milk', 'rolls/buns', '3.0%']\n",
      "['curd', 'whole milk', '4.0%']\n",
      "['whole milk', 'soda', '4.0%']\n",
      "['sugar', 'whole milk', '3.0%']\n",
      "['pastry', 'whole milk', '3.0%']\n",
      "['root vegetables', 'whole milk', '4.0%']\n",
      "['whole milk', 'domestic eggs', '3.0%']\n",
      "['other vegetables', 'rolls/buns', '5.0%']\n",
      "['other vegetables', 'bottled water', '3.0%']\n",
      "['other vegetables', 'root vegetables', '5.0%']\n",
      "['whipped/sour cream', 'other vegetables', '3.0%']\n",
      "['bottled water', 'rolls/buns', '4.0%']\n",
      "['rolls/buns', 'soda', '5.0%']\n",
      "['sugar', 'rolls/buns', '3.0%']\n",
      "['root vegetables', 'rolls/buns', '4.0%']\n",
      "['sausage', 'rolls/buns', '5.0%']\n",
      "['pastry', 'soda', '3.0%']\n",
      "['fruit/vegetable juice', 'brown bread', '3.0%']\n",
      "['canned beer', 'brown bread', '3.0%']\n",
      "['shopping bags', 'canned beer', '3.0%']\n",
      "['whipped/sour cream', 'pork', '3.0%']\n"
     ]
    }
   ],
   "source": [
    "import pandas as pd\n",
    "import re \n",
    "import csv\n",
    "\n",
    "item_relations = pd.read_csv(\"files/outputs/frequent-data.csv\")\n",
    "\n",
    "list_relations = item_relations['itemsets'].tolist()\n",
    "list_relations = [re.findall(r\"'(.*?)'\", str(x)) for x in list_relations]\n",
    "# print(list_relations)\n",
    "list_support = item_relations['support'].tolist()\n",
    "list_support = [str(x*100)[0:3]+'%' for x in list_support]\n",
    "for i in range(0, len(item_relations)):\n",
    "#     print(list_relations[i])\n",
    "    list_relations[i].append(list_support[i])\n",
    "    \n",
    "# print(list_support)\n",
    "print(*list_relations, sep='\\n')"
   ]
  },
  {
   "cell_type": "code",
   "execution_count": 98,
   "metadata": {},
   "outputs": [
    {
     "name": "stdout",
     "output_type": "stream",
     "text": [
      "[['tropical fruit', 'citrus fruit', '3.0%'], ['yogurt', 'tropical fruit', '3.0%'], ['whole milk', 'tropical fruit', '3.0%'], ['other vegetables', 'tropical fruit', '4.0%'], ['rolls/buns', 'tropical fruit', '3.0%'], ['root vegetables', 'tropical fruit', '3.0%'], ['tropical fruit', 'brown bread', '3.0%']]\n",
      "[['tropical fruit', 'citrus fruit', '3.0%'], ['whole milk', 'citrus fruit', '3.0%']]\n",
      "[['whole milk', 'citrus fruit', '3.0%'], ['whole milk', 'tropical fruit', '3.0%'], ['yogurt', 'whole milk', '6.0%'], ['other vegetables', 'whole milk', '7.0%'], ['butter', 'whole milk', '3.0%'], ['whole milk', 'rolls/buns', '3.0%'], ['curd', 'whole milk', '4.0%'], ['whole milk', 'soda', '4.0%'], ['sugar', 'whole milk', '3.0%'], ['pastry', 'whole milk', '3.0%'], ['root vegetables', 'whole milk', '4.0%'], ['whole milk', 'domestic eggs', '3.0%']]\n",
      "[['yogurt', 'tropical fruit', '3.0%'], ['yogurt', 'whole milk', '6.0%'], ['yogurt', 'cream cheese', '3.0%'], ['yogurt', 'bottled water', '3.0%'], ['yogurt', 'soda', '3.0%']]\n"
     ]
    }
   ],
   "source": [
    "set_objective = []\n",
    "total_objective = []\n",
    "items = ['tropical fruit', 'citrus fruit', 'whole milk', 'yogurt']\n",
    "for k in items:\n",
    "    objective = []\n",
    "    for i in list_relations:\n",
    "        for j in i:\n",
    "            #print(j, end=', ')\n",
    "                if k == j:\n",
    "                    objective.append(i)    \n",
    "#                 print(k)\n",
    "    total_objective.append(objective)\n",
    "    \n",
    "print(*total_objective, sep='\\n')\n",
    "\n",
    "    #print('\\n')"
   ]
  },
  {
   "cell_type": "code",
   "execution_count": 101,
   "metadata": {},
   "outputs": [
    {
     "data": {
      "text/html": [
       "<div>\n",
       "<style scoped>\n",
       "    .dataframe tbody tr th:only-of-type {\n",
       "        vertical-align: middle;\n",
       "    }\n",
       "\n",
       "    .dataframe tbody tr th {\n",
       "        vertical-align: top;\n",
       "    }\n",
       "\n",
       "    .dataframe thead th {\n",
       "        text-align: right;\n",
       "    }\n",
       "</style>\n",
       "<table border=\"1\" class=\"dataframe\">\n",
       "  <thead>\n",
       "    <tr style=\"text-align: right;\">\n",
       "      <th></th>\n",
       "      <th>Items</th>\n",
       "      <th>Relations</th>\n",
       "    </tr>\n",
       "  </thead>\n",
       "  <tbody>\n",
       "    <tr>\n",
       "      <th>0</th>\n",
       "      <td>tropical fruit</td>\n",
       "      <td>[[tropical fruit, citrus fruit, 3.0%], [yogurt...</td>\n",
       "    </tr>\n",
       "    <tr>\n",
       "      <th>1</th>\n",
       "      <td>citrus fruit</td>\n",
       "      <td>[[tropical fruit, citrus fruit, 3.0%], [whole ...</td>\n",
       "    </tr>\n",
       "    <tr>\n",
       "      <th>2</th>\n",
       "      <td>whole milk</td>\n",
       "      <td>[[whole milk, citrus fruit, 3.0%], [whole milk...</td>\n",
       "    </tr>\n",
       "    <tr>\n",
       "      <th>3</th>\n",
       "      <td>yogurt</td>\n",
       "      <td>[[yogurt, tropical fruit, 3.0%], [yogurt, whol...</td>\n",
       "    </tr>\n",
       "  </tbody>\n",
       "</table>\n",
       "</div>"
      ],
      "text/plain": [
       "            Items                                          Relations\n",
       "0  tropical fruit  [[tropical fruit, citrus fruit, 3.0%], [yogurt...\n",
       "1    citrus fruit  [[tropical fruit, citrus fruit, 3.0%], [whole ...\n",
       "2      whole milk  [[whole milk, citrus fruit, 3.0%], [whole milk...\n",
       "3          yogurt  [[yogurt, tropical fruit, 3.0%], [yogurt, whol..."
      ]
     },
     "metadata": {},
     "output_type": "display_data"
    }
   ],
   "source": [
    "df = {\n",
    "    'Items':items,\n",
    "    'Relations':total_objective\n",
    "}\n",
    "df = pd.DataFrame(df)\n",
    "display(df)"
   ]
  }
 ],
 "metadata": {
  "kernelspec": {
   "display_name": "Python 3",
   "language": "python",
   "name": "python3"
  },
  "language_info": {
   "codemirror_mode": {
    "name": "ipython",
    "version": 3
   },
   "file_extension": ".py",
   "mimetype": "text/x-python",
   "name": "python",
   "nbconvert_exporter": "python",
   "pygments_lexer": "ipython3",
   "version": "3.8.3"
  }
 },
 "nbformat": 4,
 "nbformat_minor": 4
}
